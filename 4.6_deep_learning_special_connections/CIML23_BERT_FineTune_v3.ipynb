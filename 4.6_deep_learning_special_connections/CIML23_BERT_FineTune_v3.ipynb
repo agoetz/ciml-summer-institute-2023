{
 "cells": [
  {
   "cell_type": "markdown",
   "metadata": {},
   "source": [
    "# Exercise: Fine-tune BERT with Keras NLP, using Yelp reviews\n",
    "\n",
    "In this exercise we will see how the Keras NLP package works.  \n",
    "We will load a pre-trained BERT and fine-tune it to classify Yelp reviews as good=1 or bad=0\n",
    "\n",
    "Keras NLP is an extension, not part of Keras/Tensorflow base\n",
    "\n",
    "Keras NLP has several versions of BERT available (as mention in slides) so we will also see how differently they run for performance and time - look for the  \"<<<<-----\" markers to see what to change\n",
    "\n",
    "This tutorial is based on: https://keras.io/guides/keras_nlp/getting_started/"
   ]
  },
  {
   "cell_type": "code",
   "execution_count": 1,
   "metadata": {},
   "outputs": [
    {
     "data": {
      "text/plain": [
       "'2.12.0'"
      ]
     },
     "execution_count": 1,
     "metadata": {},
     "output_type": "execute_result"
    }
   ],
   "source": [
    "import os\n",
    "os.environ['TF_CPP_MIN_LOG_LEVEL'] = '2' #suppress warnings\n",
    "import tensorflow as tf\n",
    "tf.__version__"
   ]
  },
  {
   "cell_type": "code",
   "execution_count": 2,
   "metadata": {},
   "outputs": [
    {
     "name": "stdout",
     "output_type": "stream",
     "text": [
      "Name: keras-nlp\n",
      "Version: 0.5.1\n",
      "Summary: Industry-strength Natural Language Processing extensions for Keras.\n",
      "Home-page: https://github.com/keras-team/keras-nlp\n",
      "Author: Keras team\n",
      "Author-email: keras-nlp@google.com\n",
      "License: Apache License 2.0\n",
      "Location: /scratch/train138/job_23650733/miniconda3/envs/keras-nlp/lib/python3.11/site-packages\n",
      "Requires: absl-py, numpy, packaging, tensorflow-text\n",
      "Required-by: \n"
     ]
    }
   ],
   "source": [
    "#Run this first to see if keras-nlp installed\n",
    "!pip show keras_nlp\n"
   ]
  },
  {
   "cell_type": "code",
   "execution_count": 3,
   "metadata": {
    "id": "Zsxn79lwvOKX"
   },
   "outputs": [],
   "source": [
    "import keras_nlp\n",
    "import tensorflow_text"
   ]
  },
  {
   "cell_type": "code",
   "execution_count": 5,
   "metadata": {
    "colab": {
     "base_uri": "https://localhost:8080/"
    },
    "id": "1okUcSv8SQFS",
    "outputId": "02e8c6e8-1520-464c-cb88-be0552a6daa7"
   },
   "outputs": [],
   "source": [
    "#----------------------data prep -------------------------------\n",
    "#from sklearn.preprocessing import scale\n",
    "import numpy as np\n",
    "import matplotlib.pyplot as plt\n",
    "import pandas as pd  \n"
   ]
  },
  {
   "cell_type": "code",
   "execution_count": 6,
   "metadata": {
    "id": "CYzA377B3Zh3"
   },
   "outputs": [
    {
     "name": "stdout",
     "output_type": "stream",
     "text": [
      "100\n"
     ]
    }
   ],
   "source": [
    "#Read in review texts and ratings for the hard cases, and easy cases\n",
    "textin=[] \n",
    "ic=0;\n",
    "\n",
    "# <<-- optionally, there is a _500_ sample text file\n",
    "#First read in hard to classificy text strings with their ratings\n",
    "with open(r'./yelprev_100_text.txt','r',encoding='UTF-8') as f:\n",
    "    for line in f: \n",
    "        textin.append(line.rstrip())\n",
    "\n",
    "ratesin=[];ic=0;\n",
    "with open(r'./yelprev_100_rating.txt','r',encoding='UTF-8') as f:\n",
    "    for line in f: \n",
    "        rateval = int(line.rstrip())\n",
    "        rateval = np.round(0.05+ (rateval-1)/4)  #for numbers 1,2,3,4,5 make 1,2=class 0;make 3,4,5=class 1\n",
    "        ratesin.append(rateval)\n",
    "\n",
    "print(len(textin))  "
   ]
  },
  {
   "cell_type": "code",
   "execution_count": 9,
   "metadata": {
    "colab": {
     "base_uri": "https://localhost:8080/"
    },
    "id": "Cwy6dR10Wsmu",
    "outputId": "49d1028e-ab0a-47c3-ee50-0b97e203eeb1"
   },
   "outputs": [],
   "source": [
    "#Prepare Data\n",
    "#Split data into train and validation  \n",
    "num4train = int(0.8*len(textin) )\n",
    "\n",
    "X_trn     = textin[0:num4train]\n",
    "X_val     = textin[num4train:]\n",
    "Y_trn     = ratesin[0:num4train]\n",
    "Y_val     = ratesin[num4train:]\n",
    "\n",
    "#Now combine data into 1 tensforflow dataset (which will help the fit function get batches for training)\n",
    "batch_size=16\n",
    "\n",
    "#For TRAINING DATA, it has both X,Y data, so it's ready for the 'fit' function\n",
    "textin_trn_ds   = tf.data.Dataset.from_tensor_slices((X_trn,Y_trn)) \n",
    "textin_trn_ds   = textin_trn_ds.batch(batch_size) #give batches of 10 to train \n",
    "\n",
    "#For VALID DATA\n",
    "textin_val_ds   = tf.data.Dataset.from_tensor_slices((X_val,Y_val))\n",
    "textin_val_ds = textin_val_ds.batch(batch_size) #give batches of 10 to train \n",
    "\n"
   ]
  },
  {
   "cell_type": "code",
   "execution_count": 10,
   "metadata": {
    "colab": {
     "base_uri": "https://localhost:8080/"
    },
    "id": "u7T1Ptc9DKAa",
    "outputId": "ada56526-6064-414c-9938-8db141635895"
   },
   "outputs": [
    {
     "name": "stdout",
     "output_type": "stream",
     "text": [
      "[b\"Sometimes, you go to their main office thinking you would get things done faster. I came to get my electric transferred to a new location and they want more identifications. It's crazy but they want you to sign you life away. All this information is already in the system and they want more. Not only did I waste my time but got sent home to get more id's. It's ridiculous how redounded they are. Driver's license check, social security ??? who carries their social security cards with them anymore. All this information, already in the system but they still need it. Worst policies and procedures.\"]\n"
     ]
    }
   ],
   "source": [
    "#Here's a few reviews from the dataset iterator\n",
    "for elem in textin_trn_ds.take(1):  #each element has batchsize number of reviews\n",
    "  batchstrings=elem[0].numpy()\n",
    "  print(batchstrings[0:1])\n",
    "  break"
   ]
  },
  {
   "cell_type": "code",
   "execution_count": 11,
   "metadata": {
    "id": "K9h0eKRmk5zP"
   },
   "outputs": [
    {
     "name": "stdout",
     "output_type": "stream",
     "text": [
      "Preprocessor: \"bert_preprocessor\"\n",
      "__________________________________________________________________________________________________\n",
      " Tokenizer (type)                                    Vocab #     \n",
      "==================================================================================================\n",
      " bert_tokenizer (BertTokenizer)                      30522       \n",
      "__________________________________________________________________________________________________\n",
      "                                                                                                  \n",
      "Model: \"bert_classifier\"\n",
      "__________________________________________________________________________________________________\n",
      " Layer (type)                   Output Shape         Param #     Connected to                     \n",
      "==================================================================================================\n",
      " padding_mask (InputLayer)      [(None, None)]       0           []                               \n",
      "                                                                                                  \n",
      " segment_ids (InputLayer)       [(None, None)]       0           []                               \n",
      "                                                                                                  \n",
      " token_ids (InputLayer)         [(None, None)]       0           []                               \n",
      "                                                                                                  \n",
      " bert_backbone (BertBackbone)   {'sequence_output':  28763648    ['padding_mask[0][0]',           \n",
      "                                 (None, None, 512),               'segment_ids[0][0]',            \n",
      "                                 'pooled_output': (               'token_ids[0][0]']              \n",
      "                                None, 512)}                                                       \n",
      "                                                                                                  \n",
      " dropout (Dropout)              (None, 512)          0           ['bert_backbone[0][0]']          \n",
      "                                                                                                  \n",
      " logits (Dense)                 (None, 2)            1026        ['dropout[0][0]']                \n",
      "                                                                                                  \n",
      "==================================================================================================\n",
      "Total params: 28,764,674\n",
      "Trainable params: 28,764,674\n",
      "Non-trainable params: 0\n",
      "__________________________________________________________________________________________________\n"
     ]
    }
   ],
   "source": [
    "#set up the name to use below for getting the model, and processors\n",
    "\n",
    "# <<<<<<<<<------------ try different sizes \n",
    "model_string_name=\"bert_small_en_uncased\"      #28M parameters\n",
    "#model_string_name=\"bert_medium_en_uncased\"      #41M parameters\n",
    "#model_string_name=\"bert_base_en\"               #108M parameters\n",
    "\n",
    "mymodel = keras_nlp.models.BertClassifier.from_preset(model_string_name,num_classes=2)\n",
    "mymodel.summary()\n"
   ]
  },
  {
   "cell_type": "code",
   "execution_count": 12,
   "metadata": {
    "id": "-uFypEnIQzJI"
   },
   "outputs": [],
   "source": [
    "#You might use these in other situations\n",
    "#tokenizer2use    = keras_nlp.models.BertTokenizer.from_preset(model_string_name)\n",
    "#preprocessor2use = keras_nlp.models.BertPreprocessor.from_preset( model_string_name, sequence_length=512)\n",
    "\n"
   ]
  },
  {
   "cell_type": "code",
   "execution_count": 13,
   "metadata": {
    "id": "8y5Q3hYO_Akd"
   },
   "outputs": [],
   "source": [
    "#You do not need to run compile, unless you want to change the pretrained defaults \n",
    "if 0:\n",
    "    mymodel.compile(\n",
    "    loss=tf.keras.losses.SparseCategoricalCrossentropy(from_logits=True),\n",
    "    optimizer=tf.keras.optimizers.experimental.AdamW(0.0001),  #5e-5),  \n",
    "    metrics=tf.keras.metrics.SparseCategoricalAccuracy(),\n",
    "    jit_compile=True )\n"
   ]
  },
  {
   "cell_type": "code",
   "execution_count": 14,
   "metadata": {
    "colab": {
     "base_uri": "https://localhost:8080/"
    },
    "id": "9ZqnDrLCwUeM",
    "outputId": "e5b68129-11cb-4ff8-eba2-df51eb736871"
   },
   "outputs": [
    {
     "name": "stdout",
     "output_type": "stream",
     "text": [
      "2/2 [==============================] - 5s 1s/step - loss: 0.6807 - sparse_categorical_accuracy: 0.6000\n"
     ]
    },
    {
     "data": {
      "text/plain": [
       "[0.680748462677002, 0.6000000238418579]"
      ]
     },
     "execution_count": 14,
     "metadata": {},
     "output_type": "execute_result"
    }
   ],
   "source": [
    "#We can also get the loss scores before any fine tuning\n",
    "mymodel.evaluate(textin_val_ds)\n"
   ]
  },
  {
   "cell_type": "code",
   "execution_count": 15,
   "metadata": {
    "colab": {
     "base_uri": "https://localhost:8080/"
    },
    "id": "ZHOh_2YGwUgt",
    "outputId": "6088038e-f5cf-47da-d93b-5c9161f3e5ff"
   },
   "outputs": [
    {
     "name": "stdout",
     "output_type": "stream",
     "text": [
      "Epoch 1/10\n",
      "5/5 [==============================] - 37s 5s/step - loss: 0.5728 - sparse_categorical_accuracy: 0.7250 - val_loss: 0.7899 - val_sparse_categorical_accuracy: 0.6500\n",
      "Epoch 2/10\n",
      "5/5 [==============================] - 22s 4s/step - loss: 0.5428 - sparse_categorical_accuracy: 0.7500 - val_loss: 0.6300 - val_sparse_categorical_accuracy: 0.6500\n",
      "Epoch 3/10\n",
      "5/5 [==============================] - 22s 5s/step - loss: 0.4724 - sparse_categorical_accuracy: 0.7500 - val_loss: 0.6409 - val_sparse_categorical_accuracy: 0.6500\n",
      "Epoch 4/10\n",
      "5/5 [==============================] - 22s 5s/step - loss: 0.3787 - sparse_categorical_accuracy: 0.7875 - val_loss: 0.6207 - val_sparse_categorical_accuracy: 0.6500\n",
      "done training\n"
     ]
    }
   ],
   "source": [
    "myES = tf.keras.callbacks.EarlyStopping(monitor='val_sparse_categorical_accuracy', mode='max', patience=5,  restore_best_weights=True) \n",
    "\n",
    "fit_history=mymodel.fit(textin_trn_ds,\n",
    "    validation_data=textin_val_ds,\n",
    "    epochs=10,shuffle=True,   #just run a few epochs\n",
    "    callbacks=[myES])\n",
    "\n",
    "print('done training')"
   ]
  },
  {
   "cell_type": "code",
   "execution_count": 16,
   "metadata": {
    "id": "DjkOv5vowi1U"
   },
   "outputs": [
    {
     "name": "stdout",
     "output_type": "stream",
     "text": [
      "dict_keys(['loss', 'sparse_categorical_accuracy', 'val_loss', 'val_sparse_categorical_accuracy'])\n"
     ]
    },
    {
     "data": {
      "image/png": "[encoded data removed]",
      "text/plain": [
       "<Figure size 640x480 with 1 Axes>"
      ]
     },
     "metadata": {},
     "output_type": "display_data"
    }
   ],
   "source": [
    "import matplotlib.pyplot as plt      #These provide matlab type of plotting functions\n",
    "import matplotlib.image as mpimg\n",
    "%matplotlib inline                   \n",
    "\n",
    "# list all data in history and print out performance\n",
    "print(fit_history.history.keys())\n",
    "numtraining_epochs=len(fit_history.history['sparse_categorical_accuracy'])\n",
    "# summarize history for accuracy\n",
    "plt.figure()\n",
    "plt.axis([0 ,numtraining_epochs, 0, 1])\n",
    "plt.plot(fit_history.history['sparse_categorical_accuracy'])\n",
    "plt.plot(fit_history.history['val_sparse_categorical_accuracy'])\n",
    "plt.title('model accuracy')\n",
    "plt.ylabel('accuracy')\n",
    "plt.xlabel('epoch')\n",
    "plt.legend(['train', 'val_test'], loc='upper left')\n",
    "plt.show()"
   ]
  },
  {
   "cell_type": "code",
   "execution_count": 17,
   "metadata": {
    "colab": {
     "base_uri": "https://localhost:8080/"
    },
    "id": "ydP7ipzPC9nN",
    "outputId": "1472a120-d434-451d-d52b-b03e196080bc"
   },
   "outputs": [
    {
     "name": "stdout",
     "output_type": "stream",
     "text": [
      "2/2 [==============================] - 4s 1s/step\n"
     ]
    }
   ],
   "source": [
    "#Now, let's get the validation predictions after fine tuning\n",
    "# and then look at some predictions and the text\n",
    "aftfinetune_predictions=mymodel.predict(textin_val_ds)  #the dataset will just pass in list of strings\n"
   ]
  },
  {
   "cell_type": "code",
   "execution_count": 18,
   "metadata": {
    "colab": {
     "base_uri": "https://localhost:8080/"
    },
    "id": "aK0kSyIIcB9T",
    "outputId": "64bde50c-f4ae-4982-f7b5-f5a540c0b371"
   },
   "outputs": [
    {
     "name": "stdout",
     "output_type": "stream",
     "text": [
      "----------------------------------------------------------------------\n",
      "item number:  0\n",
      "b'Very good place.  Casual, comfortable.  Slightly hip in a nice, effortless way.  Pleasant outdoor seating.  The dining room is also cool -- small, intimate and relaxed.  Three Flags is a great oasis in its neighborhood.  The brisket burger and fries were very good and I would enjoy one again.  It is not over-the-top great as some reviews suggest, so temper your expectations.  The cauliflower gratin (with some broccoli) was superb, though.  It is not my impression of gratin.  The cauliflower is served roasted or grilled with cheese sprinkled on and a bit of oil and seasoning.  Might not sound like much, but if you have any interest in cauliflower, have it.  It is that good.'\n",
      "prediction values:  [-0.91660154  0.9028212 ]\n",
      " and class predictn: 1  true: 1.0\n",
      "------------------------------------------------------------------------\n",
      "----------------------------------------------------------------------\n",
      "item number:  1\n",
      "b'Honestly, one of best experiences I have had at a Sephora. All thanks to Tori! Honestly, the mall was busy and packed and I forgot all of my makeup in North Jersey. I dragged my boyfriend to the mall to see if i could something anything done on my face.  I ran in to get lashes and asked if I could get them applied.  Tori was extremely friendly and kind. She was so helpful, I think she could see the desperate on my face.  She even did my eyebrows!!! I loved my face for the wedding! It was so beautiful. Tori was a life-saver. She definitely made and SAVED my day!!'\n",
      "prediction values:  [-0.69603854  0.89140606]\n",
      " and class predictn: 1  true: 1.0\n",
      "------------------------------------------------------------------------\n",
      "----------------------------------------------------------------------\n",
      "item number:  2\n",
      "b\"Service was horrible. Was seated, then waitress took my drink order. She brouggt my drink and took my meal order, which was their Turkey Dinner (not the turkey Manhattan). My salad was brought out and was good, no complaints there. Wheb my meal was brought out, I wasn't asked if everything looked ok or if I needed anything else. I didn't get rolls with my meal, nor did I receive any drink refills. Finally when the waitress came back to my table, it was to deliver my ticket and a drink to go. This shows she assumed I was satisfied and ready to leave. By The Way...they have a nice dessert selection which others around me had been asked if they wanted a desert before they were presented with their ticket. I assume, since I was by myself, they assume I don't want refills or asked how my meal is or if there is anything I need. When my ticket was given to me, I did let her know I didn't receive rolls or drink refills, she acted surprised. Not sure why she was surprised. She did offer a desert though; I declined.   That doesn't makevup for lack of service to someone just because they are dining alone. So, if dining alone go elsewhere if you want service.\"\n",
      "prediction values:  [-0.86807394  0.92635465]\n",
      " and class predictn: 1  true: 0.0\n",
      "------------------------------------------------------------------------\n",
      "----------------------------------------------------------------------\n",
      "item number:  3\n",
      "b\"Food rating: 5 stars Service rating: 1 star Hence the average: 3 stars  Went here on a Thursday night for dinner with a friend. Was seated immediately upstairs. Ordered the scallion pancake for appetizers and I got the dan dan noodles and my friend got the ginger chicken entree.   We got the scallion pancake pretty quickly. It was super duper yum!!!   Soon after, my friends ginger chicken entree came out. Without the side of rice. I've been here before and knew for sure that entrees come with rice so we asked for it.   However, when they served my friend, they didn't bring my entree. We waited. And waited some more. Meanwhile, no one even checked on us. My friend was almost half way through her dish, when finally we flagged them down and asked for my entree. And then after 5 mins they brought it out. Would've been nice if they'd at least apologized for the mistake and length of time or given some explanation. We also waited forever to get forks. They didn't seem to care to check on us at all.  I loved the dan dan noodles. However, it barely had any pork!   I'll go back. Only for the food!\"\n",
      "prediction values:  [-0.93840015  0.8901877 ]\n",
      " and class predictn: 1  true: 1.0\n",
      "------------------------------------------------------------------------\n",
      "----------------------------------------------------------------------\n",
      "item number:  4\n",
      "b'Today I ordered on their app and didn\\'t realize they closed early (6pm)for Labor Day (as they should)  the app let me order anyway and the owner called me and informed me they were closed but would make them anyway, but they only had one seeded and one non seeded roll. He didn\\'t have to still make them it was an honest mistake somewhere in the app and usually I would say not to and just go home, but like I told them when I got there \" I worked all day outside in the heat and just wanted a real hoagie\"  awesome job Primos. And apologies again for slowing your home time down.'\n",
      "prediction values:  [-0.84780514  0.9321799 ]\n",
      " and class predictn: 1  true: 1.0\n",
      "------------------------------------------------------------------------\n",
      "----------------------------------------------------------------------\n",
      "item number:  5\n",
      "b\"Update: Got curbside today. It's been like 2 years since my last review. This time I checked in and it was quite a while until they came out with my food. When I got home I noticed they forgot all of the sandwiches! I called them back and it took 5 minutes to get a manager. Eventually they said they'd refund my order, but they weren't even busy at the time. Still a one star place.   Old Review:  Went in to get some food to go. Sadly, I wasn't able to get any. It didn't seem busy, and there was only one person in line. I ordered and the cashier was friendly and knowledgeable.   I then waited for my food. I noticed many people asking to speak with a manager because their food was taking 40 minutes. I checked the wait list, and I was #14.   Somehow, in asking for a manager, another patron ticked off one of the cooks. That finally got the manager out of the back. There was lots of yelling and some pushing, but the guy left without his food and the cook bailed. I asked for a refund at that point. I was #12 after 20 minutes.   So I went next door to chipotle and it was great.\"\n",
      "prediction values:  [-0.9667667   0.89212495]\n",
      " and class predictn: 1  true: 0.0\n",
      "------------------------------------------------------------------------\n",
      "----------------------------------------------------------------------\n",
      "item number:  6\n",
      "b\"I'm terribly saddened by the negative reviews here...because I actually enjoyed my experience. I found Alluring nails through a Groupon and since it was close to work, figured hey why not. The location is nice for the North Carmel area. The shop itself is large and bright and inviting like many other nail shops. The pedicure chairs are large with massage. What stood out for me was the pretty pink chairs for your little friends to join you while  you are getting your nails done (nice touch...I see some reward based mommy-daughter time coming up). I had gel on both my toes and fingers so two separate nail techs worked on getting the polish off. This was appreciated because I was pressed for time. The pedicure was relaxing with a nice salt massage to boot!  The manicure was also nice and my manicurist was very detailed and gentle. I was glad she did not cut my nails all the way down to the nubs.   I would definitely give Alluring Nails another try.\"\n",
      "prediction values:  [-0.93448395  0.9083669 ]\n",
      " and class predictn: 1  true: 1.0\n",
      "------------------------------------------------------------------------\n"
     ]
    }
   ],
   "source": [
    "#each element is a batch-size set of reviews and a batch-szie set of targets \n",
    "#each review is a tensor, each target is a tensor\n",
    "incnt=0\n",
    "for elem in textin_val_ds:  \n",
    "  for i in range(batch_size):\n",
    "    print('----------------------------------------------------------------------')\n",
    "    print('item number: ',incnt)\n",
    "    print(tf.get_static_value(elem[0][i]))  #each item is a tensor\n",
    "    maxposition=np.argmax(aftfinetune_predictions[incnt,])  #should be -1 or 1\n",
    "    print('prediction values: ',aftfinetune_predictions[incnt,])\n",
    "    print( ' and class predictn:',maxposition, ' true:',tf.get_static_value(elem[1][i]))\n",
    "    print('------------------------------------------------------------------------')\n",
    "    incnt+=1\n",
    "    if incnt>5:\n",
    "        break\n"
   ]
  },
  {
   "cell_type": "code",
   "execution_count": null,
   "metadata": {},
   "outputs": [],
   "source": []
  }
 ],
 "metadata": {
  "colab": {
   "provenance": []
  },
  "kernelspec": {
   "display_name": "Python 3 (ipykernel)",
   "language": "python",
   "name": "python3"
  },
  "language_info": {
   "codemirror_mode": {
    "name": "ipython",
    "version": 3
   },
   "file_extension": ".py",
   "mimetype": "text/x-python",
   "name": "python",
   "nbconvert_exporter": "python",
   "pygments_lexer": "ipython3",
   "version": "3.11.0"
  }
 },
 "nbformat": 4,
 "nbformat_minor": 4
}
